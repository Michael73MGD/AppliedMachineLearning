{
 "cells": [
  {
   "cell_type": "markdown",
   "metadata": {},
   "source": [
    "### Machine Learning Analysis"
   ]
  },
  {
   "cell_type": "code",
   "execution_count": 246,
   "metadata": {},
   "outputs": [],
   "source": [
    "# Load Packages\n",
    "import os\n",
    "import math\n",
    "import random\n",
    "import numpy as np\n",
    "import pandas as pd\n",
    "import sklearn as sk"
   ]
  },
  {
   "cell_type": "markdown",
   "metadata": {},
   "source": [
    "### The goal of this code is to identify countries as food suppliers (with extraneous resources) or food receivers (those with food scarcity)"
   ]
  },
  {
   "cell_type": "code",
   "execution_count": 247,
   "metadata": {},
   "outputs": [
    {
     "data": {
      "text/html": [
       "<div>\n",
       "<style scoped>\n",
       "    .dataframe tbody tr th:only-of-type {\n",
       "        vertical-align: middle;\n",
       "    }\n",
       "\n",
       "    .dataframe tbody tr th {\n",
       "        vertical-align: top;\n",
       "    }\n",
       "\n",
       "    .dataframe thead th {\n",
       "        text-align: right;\n",
       "    }\n",
       "</style>\n",
       "<table border=\"1\" class=\"dataframe\">\n",
       "  <thead>\n",
       "    <tr style=\"text-align: right;\">\n",
       "      <th></th>\n",
       "      <th>Country</th>\n",
       "      <th>Tons of food scarcity</th>\n",
       "      <th>Tons of surplus food</th>\n",
       "      <th>sub</th>\n",
       "    </tr>\n",
       "  </thead>\n",
       "  <tbody>\n",
       "    <tr>\n",
       "      <th>0</th>\n",
       "      <td>Afghanistan</td>\n",
       "      <td>18414379</td>\n",
       "      <td>1852067.5</td>\n",
       "      <td>-16562311.5</td>\n",
       "    </tr>\n",
       "    <tr>\n",
       "      <th>1</th>\n",
       "      <td>Albania</td>\n",
       "      <td>597953</td>\n",
       "      <td>141775.0</td>\n",
       "      <td>-456178.0</td>\n",
       "    </tr>\n",
       "    <tr>\n",
       "      <th>2</th>\n",
       "      <td>Algeria</td>\n",
       "      <td>5572676</td>\n",
       "      <td>2295944.5</td>\n",
       "      <td>-3276731.5</td>\n",
       "    </tr>\n",
       "    <tr>\n",
       "      <th>3</th>\n",
       "      <td>Andorra</td>\n",
       "      <td>0</td>\n",
       "      <td>3742.5</td>\n",
       "      <td>3742.5</td>\n",
       "    </tr>\n",
       "    <tr>\n",
       "      <th>4</th>\n",
       "      <td>Angola</td>\n",
       "      <td>17532405</td>\n",
       "      <td>1833639.0</td>\n",
       "      <td>-15698766.0</td>\n",
       "    </tr>\n",
       "  </tbody>\n",
       "</table>\n",
       "</div>"
      ],
      "text/plain": [
       "       Country  Tons of food scarcity  Tons of surplus food         sub\n",
       "0  Afghanistan               18414379             1852067.5 -16562311.5\n",
       "1      Albania                 597953              141775.0   -456178.0\n",
       "2      Algeria                5572676             2295944.5  -3276731.5\n",
       "3      Andorra                      0                3742.5      3742.5\n",
       "4       Angola               17532405             1833639.0 -15698766.0"
      ]
     },
     "execution_count": 247,
     "metadata": {},
     "output_type": "execute_result"
    }
   ],
   "source": [
    "# We manually added some information to the dataset including GDP, infant mortality rate, and life expectancy\n",
    "\n",
    "# Extended Dataset path\n",
    "dataset_path = \"processed_data/Extended_Dataset.csv\"\n",
    "\n",
    "# Load csv file into a dataframe\n",
    "df = pd.read_csv(dataset_path)\n",
    "\n",
    "#Select desired columns\n",
    "clean_df = df[['Country', 'Tons of food scarcity', 'Tons of surplus food']].copy()\n",
    "\n",
    "clean_df['sub'] = clean_df['Tons of surplus food']-clean_df['Tons of food scarcity']\n",
    "\n",
    "clean_df.head()"
   ]
  },
  {
   "cell_type": "code",
   "execution_count": 248,
   "metadata": {},
   "outputs": [],
   "source": [
    "\n",
    "negative_values = clean_df[clean_df['sub'] < 0]['sub']\n",
    "\n",
    "# Find maximum and minimum values among negative numbers\n",
    "max_negative = negative_values.max()\n",
    "min_negative = negative_values.min()\n",
    "\n",
    "positive_values = clean_df[clean_df['sub'] >= 0]['sub']\n",
    "max_positive = positive_values.max()\n",
    "min_positive = positive_values.min()\n",
    "\n",
    "a = 0.01\n",
    "b = 3\n",
    "\n",
    "c = -3\n",
    "d = -0.01\n",
    "\n",
    "clean_df['normalized_sub'] = clean_df['sub'].apply(lambda x: ((x - min_positive) / (max_positive - min_positive)) * (b - a) + a if x >= 0 else (x - min_negative) / (max_negative - min_negative) * (d - c) + c)"
   ]
  },
  {
   "cell_type": "code",
   "execution_count": 249,
   "metadata": {},
   "outputs": [],
   "source": [
    "\n",
    "#Select desired columns\n",
    "norm_df = clean_df[['Country', 'normalized_sub']].copy()\n",
    "\n",
    "norm_df['classification'] = norm_df['normalized_sub'].apply(lambda x: math.ceil(x) if x >= 0 else math.floor(x))\n",
    "# norm_df.style"
   ]
  },
  {
   "cell_type": "code",
   "execution_count": 250,
   "metadata": {},
   "outputs": [
    {
     "name": "stdout",
     "output_type": "stream",
     "text": [
      "0     -1\n",
      "1     -1\n",
      "2     -1\n",
      "3      1\n",
      "4     -1\n",
      "      ..\n",
      "207    1\n",
      "208   -1\n",
      "209    1\n",
      "210   -1\n",
      "211   -1\n",
      "Name: classification, Length: 212, dtype: int64\n"
     ]
    }
   ],
   "source": [
    "#Outputs\n",
    "y = norm_df['classification'].copy()\n",
    "print(y)"
   ]
  },
  {
   "cell_type": "code",
   "execution_count": 251,
   "metadata": {},
   "outputs": [],
   "source": [
    "#Select desired columns\n",
    "x_df = df[['GDP per Capita', 'Population', 'Infant Mortality Rate', 'Life Expectancy']].copy()\n",
    "\n",
    "#Find average Infant Mortality Rate\n",
    "avg_mr = x_df['Infant Mortality Rate'].mean(axis = 0)\n",
    "\n",
    "#Set nan values to average rate\n",
    "x_df['Infant Mortality Rate'] = x_df['Infant Mortality Rate'].fillna(avg_mr)\n",
    "\n",
    "#Find average Life Expectancy\n",
    "avg_le = x_df['Life Expectancy'].mean(axis = 0)\n",
    "\n",
    "#Set nan values to average Life Life Expectancy\n",
    "x_df['Life Expectancy'] = x_df['Life Expectancy'].fillna(avg_le)"
   ]
  },
  {
   "cell_type": "markdown",
   "metadata": {},
   "source": [
    "# Comparing how each of these three variables can predict the food scarcity/surplus numbers calculated above to determine which are most closely related. "
   ]
  },
  {
   "cell_type": "code",
   "execution_count": 252,
   "metadata": {},
   "outputs": [],
   "source": [
    "# Final Data will be saved here:\n",
    "final_data = [[\"ML Model\",\"GDP Per Capita\", \"Infant Mortality Rate\", \"Life Expectancy\"], [\"Decision Tree\", None, None, None], [\"Random Forest\", None, None, None]]"
   ]
  },
  {
   "cell_type": "markdown",
   "metadata": {},
   "source": [
    "# Assess the relationship between GDP and food scarcity/surplus through a Tree and Random Forest. Only passing GDP and Population"
   ]
  },
  {
   "cell_type": "code",
   "execution_count": 253,
   "metadata": {},
   "outputs": [],
   "source": [
    "x = x_df.filter(items=('GDP per Capita', 'Population'))\n",
    "\n",
    "#Create training data using sklearn\n",
    "from sklearn.model_selection import train_test_split\n",
    "x_train, x_test, y_train, y_test = train_test_split(x, y, test_size=0.2, random_state=0)"
   ]
  },
  {
   "cell_type": "markdown",
   "metadata": {},
   "source": [
    "## Tree Creation"
   ]
  },
  {
   "cell_type": "code",
   "execution_count": 254,
   "metadata": {},
   "outputs": [
    {
     "name": "stdout",
     "output_type": "stream",
     "text": [
      "Accuracy of GDP Tree Classifier: 55.81%\n"
     ]
    },
    {
     "data": {
      "text/html": [
       "<div>\n",
       "<style scoped>\n",
       "    .dataframe tbody tr th:only-of-type {\n",
       "        vertical-align: middle;\n",
       "    }\n",
       "\n",
       "    .dataframe tbody tr th {\n",
       "        vertical-align: top;\n",
       "    }\n",
       "\n",
       "    .dataframe thead th {\n",
       "        text-align: right;\n",
       "    }\n",
       "</style>\n",
       "<table border=\"1\" class=\"dataframe\">\n",
       "  <thead>\n",
       "    <tr style=\"text-align: right;\">\n",
       "      <th></th>\n",
       "      <th>0</th>\n",
       "      <th>1</th>\n",
       "      <th>2</th>\n",
       "      <th>3</th>\n",
       "    </tr>\n",
       "  </thead>\n",
       "  <tbody>\n",
       "    <tr>\n",
       "      <th>0</th>\n",
       "      <td>ML Model</td>\n",
       "      <td>GDP Per Capita</td>\n",
       "      <td>Infant Mortality Rate</td>\n",
       "      <td>Life Expectancy</td>\n",
       "    </tr>\n",
       "    <tr>\n",
       "      <th>1</th>\n",
       "      <td>Decision Tree</td>\n",
       "      <td>55.81%</td>\n",
       "      <td>None</td>\n",
       "      <td>None</td>\n",
       "    </tr>\n",
       "    <tr>\n",
       "      <th>2</th>\n",
       "      <td>Random Forest</td>\n",
       "      <td>None</td>\n",
       "      <td>None</td>\n",
       "      <td>None</td>\n",
       "    </tr>\n",
       "  </tbody>\n",
       "</table>\n",
       "</div>"
      ],
      "text/plain": [
       "               0               1                      2                3\n",
       "0       ML Model  GDP Per Capita  Infant Mortality Rate  Life Expectancy\n",
       "1  Decision Tree          55.81%                   None             None\n",
       "2  Random Forest            None                   None             None"
      ]
     },
     "execution_count": 254,
     "metadata": {},
     "output_type": "execute_result"
    },
    {
     "data": {
      "image/png": "[encoded data removed]",
      "text/plain": [
       "<Figure size 500x500 with 1 Axes>"
      ]
     },
     "metadata": {},
     "output_type": "display_data"
    }
   ],
   "source": [
    "from sklearn import tree\n",
    "from matplotlib import pyplot as plt\n",
    "\n",
    "#Create Tree Classifier\n",
    "class_tree = tree.DecisionTreeClassifier()\n",
    "class_tree = class_tree.fit(x_train, y_train)\n",
    "\n",
    "plt.figure(figsize=(5, 5), dpi=100)\n",
    "tree.plot_tree(class_tree, label='all', feature_names=('GDP per Capita', 'Population'), proportion=True)\n",
    "\n",
    "y_pred = class_tree.predict(x_test)\n",
    "\n",
    "from sklearn.metrics import accuracy_score\n",
    "accuracy = accuracy_score(y_test, y_pred)\n",
    "print(\"Accuracy of GDP Tree Classifier:\", \"{:.2f}%\".format(accuracy*100))\n",
    "final_data[1][1] = \"{:.2f}%\".format(accuracy*100)\n",
    "pd.DataFrame(final_data)"
   ]
  },
  {
   "cell_type": "markdown",
   "metadata": {},
   "source": [
    "## Now creating a Random Forest Classifier"
   ]
  },
  {
   "cell_type": "code",
   "execution_count": 255,
   "metadata": {},
   "outputs": [
    {
     "name": "stdout",
     "output_type": "stream",
     "text": [
      "The accuracy of the GDP Forest model is:  69.77%\n"
     ]
    },
    {
     "data": {
      "text/html": [
       "<div>\n",
       "<style scoped>\n",
       "    .dataframe tbody tr th:only-of-type {\n",
       "        vertical-align: middle;\n",
       "    }\n",
       "\n",
       "    .dataframe tbody tr th {\n",
       "        vertical-align: top;\n",
       "    }\n",
       "\n",
       "    .dataframe thead th {\n",
       "        text-align: right;\n",
       "    }\n",
       "</style>\n",
       "<table border=\"1\" class=\"dataframe\">\n",
       "  <thead>\n",
       "    <tr style=\"text-align: right;\">\n",
       "      <th></th>\n",
       "      <th>0</th>\n",
       "      <th>1</th>\n",
       "      <th>2</th>\n",
       "      <th>3</th>\n",
       "    </tr>\n",
       "  </thead>\n",
       "  <tbody>\n",
       "    <tr>\n",
       "      <th>0</th>\n",
       "      <td>ML Model</td>\n",
       "      <td>GDP Per Capita</td>\n",
       "      <td>Infant Mortality Rate</td>\n",
       "      <td>Life Expectancy</td>\n",
       "    </tr>\n",
       "    <tr>\n",
       "      <th>1</th>\n",
       "      <td>Decision Tree</td>\n",
       "      <td>55.81%</td>\n",
       "      <td>None</td>\n",
       "      <td>None</td>\n",
       "    </tr>\n",
       "    <tr>\n",
       "      <th>2</th>\n",
       "      <td>Random Forest</td>\n",
       "      <td>69.77%</td>\n",
       "      <td>None</td>\n",
       "      <td>None</td>\n",
       "    </tr>\n",
       "  </tbody>\n",
       "</table>\n",
       "</div>"
      ],
      "text/plain": [
       "               0               1                      2                3\n",
       "0       ML Model  GDP Per Capita  Infant Mortality Rate  Life Expectancy\n",
       "1  Decision Tree          55.81%                   None             None\n",
       "2  Random Forest          69.77%                   None             None"
      ]
     },
     "execution_count": 255,
     "metadata": {},
     "output_type": "execute_result"
    }
   ],
   "source": [
    "from sklearn.ensemble import RandomForestClassifier as rfc\n",
    "\n",
    "#Create Forest Classifier\n",
    "class_forest = rfc(n_estimators=50, max_leaf_nodes=15)\n",
    "class_forest = class_forest.fit(x_train, y_train)\n",
    "\n",
    "#Create Prediction Data\n",
    "y_pred_forest = class_forest.predict(x_test)\n",
    "\n",
    "score = accuracy_score(y_test, y_pred_forest)\n",
    "print('The accuracy of the GDP Forest model is: ', \"{:.2f}%\".format(100*score))\n",
    "final_data[2][1] = \"{:.2f}%\".format(score*100)\n",
    "pd.DataFrame(final_data)"
   ]
  },
  {
   "cell_type": "markdown",
   "metadata": {},
   "source": [
    "This indicates that GDP and Population are not significantly related to the food scarcity/surplus because training was not extremely successful. "
   ]
  },
  {
   "cell_type": "markdown",
   "metadata": {},
   "source": [
    "## Now training 2 models on Infant Mortality Rate and Population to see how it compares"
   ]
  },
  {
   "cell_type": "code",
   "execution_count": 256,
   "metadata": {},
   "outputs": [],
   "source": [
    "x = x_df.filter(items=('Infant Mortality Rate', 'Population'))\n",
    "\n",
    "#Create training data using sklearn\n",
    "from sklearn.model_selection import train_test_split\n",
    "x_train, x_test, y_train, y_test = train_test_split(x, y, test_size=0.2, random_state=0)"
   ]
  },
  {
   "cell_type": "code",
   "execution_count": 257,
   "metadata": {},
   "outputs": [
    {
     "name": "stdout",
     "output_type": "stream",
     "text": [
      "Accuracy of Infant Mortality Rate Tree Classifier: 58.14%\n"
     ]
    },
    {
     "data": {
      "text/html": [
       "<div>\n",
       "<style scoped>\n",
       "    .dataframe tbody tr th:only-of-type {\n",
       "        vertical-align: middle;\n",
       "    }\n",
       "\n",
       "    .dataframe tbody tr th {\n",
       "        vertical-align: top;\n",
       "    }\n",
       "\n",
       "    .dataframe thead th {\n",
       "        text-align: right;\n",
       "    }\n",
       "</style>\n",
       "<table border=\"1\" class=\"dataframe\">\n",
       "  <thead>\n",
       "    <tr style=\"text-align: right;\">\n",
       "      <th></th>\n",
       "      <th>0</th>\n",
       "      <th>1</th>\n",
       "      <th>2</th>\n",
       "      <th>3</th>\n",
       "    </tr>\n",
       "  </thead>\n",
       "  <tbody>\n",
       "    <tr>\n",
       "      <th>0</th>\n",
       "      <td>ML Model</td>\n",
       "      <td>GDP Per Capita</td>\n",
       "      <td>Infant Mortality Rate</td>\n",
       "      <td>Life Expectancy</td>\n",
       "    </tr>\n",
       "    <tr>\n",
       "      <th>1</th>\n",
       "      <td>Decision Tree</td>\n",
       "      <td>55.81%</td>\n",
       "      <td>58.14%</td>\n",
       "      <td>None</td>\n",
       "    </tr>\n",
       "    <tr>\n",
       "      <th>2</th>\n",
       "      <td>Random Forest</td>\n",
       "      <td>69.77%</td>\n",
       "      <td>None</td>\n",
       "      <td>None</td>\n",
       "    </tr>\n",
       "  </tbody>\n",
       "</table>\n",
       "</div>"
      ],
      "text/plain": [
       "               0               1                      2                3\n",
       "0       ML Model  GDP Per Capita  Infant Mortality Rate  Life Expectancy\n",
       "1  Decision Tree          55.81%                 58.14%             None\n",
       "2  Random Forest          69.77%                   None             None"
      ]
     },
     "execution_count": 257,
     "metadata": {},
     "output_type": "execute_result"
    },
    {
     "data": {
      "image/png": "[encoded data removed]",
      "text/plain": [
       "<Figure size 500x500 with 1 Axes>"
      ]
     },
     "metadata": {},
     "output_type": "display_data"
    }
   ],
   "source": [
    "from sklearn import tree\n",
    "from matplotlib import pyplot as plt\n",
    "\n",
    "#Create Tree Classifier\n",
    "class_tree = tree.DecisionTreeClassifier()\n",
    "class_tree = class_tree.fit(x_train, y_train)\n",
    "\n",
    "plt.figure(figsize=(5, 5), dpi=100)\n",
    "tree.plot_tree(class_tree, label='all', feature_names=('Infant Mortality Rate', 'Population'), proportion=True)\n",
    "\n",
    "y_pred = class_tree.predict(x_test)\n",
    "\n",
    "from sklearn.metrics import accuracy_score\n",
    "accuracy = accuracy_score(y_test, y_pred)\n",
    "print(\"Accuracy of Infant Mortality Rate Tree Classifier:\", \"{:.2f}%\".format(accuracy*100))\n",
    "final_data[1][2] = \"{:.2f}%\".format(accuracy*100)\n",
    "pd.DataFrame(final_data)"
   ]
  },
  {
   "cell_type": "markdown",
   "metadata": {},
   "source": [
    "And the Random Forest"
   ]
  },
  {
   "cell_type": "code",
   "execution_count": 258,
   "metadata": {},
   "outputs": [
    {
     "name": "stdout",
     "output_type": "stream",
     "text": [
      "The accuracy of the GDP Forest model is:  53.49%\n"
     ]
    },
    {
     "data": {
      "text/html": [
       "<div>\n",
       "<style scoped>\n",
       "    .dataframe tbody tr th:only-of-type {\n",
       "        vertical-align: middle;\n",
       "    }\n",
       "\n",
       "    .dataframe tbody tr th {\n",
       "        vertical-align: top;\n",
       "    }\n",
       "\n",
       "    .dataframe thead th {\n",
       "        text-align: right;\n",
       "    }\n",
       "</style>\n",
       "<table border=\"1\" class=\"dataframe\">\n",
       "  <thead>\n",
       "    <tr style=\"text-align: right;\">\n",
       "      <th></th>\n",
       "      <th>0</th>\n",
       "      <th>1</th>\n",
       "      <th>2</th>\n",
       "      <th>3</th>\n",
       "    </tr>\n",
       "  </thead>\n",
       "  <tbody>\n",
       "    <tr>\n",
       "      <th>0</th>\n",
       "      <td>ML Model</td>\n",
       "      <td>GDP Per Capita</td>\n",
       "      <td>Infant Mortality Rate</td>\n",
       "      <td>Life Expectancy</td>\n",
       "    </tr>\n",
       "    <tr>\n",
       "      <th>1</th>\n",
       "      <td>Decision Tree</td>\n",
       "      <td>55.81%</td>\n",
       "      <td>58.14%</td>\n",
       "      <td>None</td>\n",
       "    </tr>\n",
       "    <tr>\n",
       "      <th>2</th>\n",
       "      <td>Random Forest</td>\n",
       "      <td>69.77%</td>\n",
       "      <td>53.49%</td>\n",
       "      <td>None</td>\n",
       "    </tr>\n",
       "  </tbody>\n",
       "</table>\n",
       "</div>"
      ],
      "text/plain": [
       "               0               1                      2                3\n",
       "0       ML Model  GDP Per Capita  Infant Mortality Rate  Life Expectancy\n",
       "1  Decision Tree          55.81%                 58.14%             None\n",
       "2  Random Forest          69.77%                 53.49%             None"
      ]
     },
     "execution_count": 258,
     "metadata": {},
     "output_type": "execute_result"
    }
   ],
   "source": [
    "from sklearn.ensemble import RandomForestClassifier as rfc\n",
    "\n",
    "#Create Forest Classifier\n",
    "class_forest = rfc(n_estimators=50, max_leaf_nodes=15)\n",
    "class_forest = class_forest.fit(x_train, y_train)\n",
    "\n",
    "#Create Prediction Data\n",
    "y_pred_forest = class_forest.predict(x_test)\n",
    "\n",
    "score = accuracy_score(y_test, y_pred_forest)\n",
    "print('The accuracy of the GDP Forest model is: ', \"{:.2f}%\".format(100*score))\n",
    "final_data[2][2] = \"{:.2f}%\".format(score*100)\n",
    "pd.DataFrame(final_data)"
   ]
  },
  {
   "cell_type": "markdown",
   "metadata": {},
   "source": [
    "Infant Mortality Rate performs slightly worse at predicting food scarcity / surplus"
   ]
  },
  {
   "cell_type": "markdown",
   "metadata": {},
   "source": [
    "## Now training 2 models on Life Expectancy and Population to see how it compares"
   ]
  },
  {
   "cell_type": "code",
   "execution_count": 259,
   "metadata": {},
   "outputs": [],
   "source": [
    "x = x_df.filter(items=('Life Expectancy', 'Population'))\n",
    "\n",
    "#Create training data using sklearn\n",
    "from sklearn.model_selection import train_test_split\n",
    "x_train, x_test, y_train, y_test = train_test_split(x, y, test_size=0.2, random_state=0)"
   ]
  },
  {
   "cell_type": "code",
   "execution_count": 260,
   "metadata": {},
   "outputs": [
    {
     "name": "stdout",
     "output_type": "stream",
     "text": [
      "Accuracy of Infant Mortality Rate Tree Classifier: 41.86%\n"
     ]
    },
    {
     "data": {
      "text/html": [
       "<div>\n",
       "<style scoped>\n",
       "    .dataframe tbody tr th:only-of-type {\n",
       "        vertical-align: middle;\n",
       "    }\n",
       "\n",
       "    .dataframe tbody tr th {\n",
       "        vertical-align: top;\n",
       "    }\n",
       "\n",
       "    .dataframe thead th {\n",
       "        text-align: right;\n",
       "    }\n",
       "</style>\n",
       "<table border=\"1\" class=\"dataframe\">\n",
       "  <thead>\n",
       "    <tr style=\"text-align: right;\">\n",
       "      <th></th>\n",
       "      <th>0</th>\n",
       "      <th>1</th>\n",
       "      <th>2</th>\n",
       "      <th>3</th>\n",
       "    </tr>\n",
       "  </thead>\n",
       "  <tbody>\n",
       "    <tr>\n",
       "      <th>0</th>\n",
       "      <td>ML Model</td>\n",
       "      <td>GDP Per Capita</td>\n",
       "      <td>Infant Mortality Rate</td>\n",
       "      <td>Life Expectancy</td>\n",
       "    </tr>\n",
       "    <tr>\n",
       "      <th>1</th>\n",
       "      <td>Decision Tree</td>\n",
       "      <td>55.81%</td>\n",
       "      <td>58.14%</td>\n",
       "      <td>41.86%</td>\n",
       "    </tr>\n",
       "    <tr>\n",
       "      <th>2</th>\n",
       "      <td>Random Forest</td>\n",
       "      <td>69.77%</td>\n",
       "      <td>53.49%</td>\n",
       "      <td>None</td>\n",
       "    </tr>\n",
       "  </tbody>\n",
       "</table>\n",
       "</div>"
      ],
      "text/plain": [
       "               0               1                      2                3\n",
       "0       ML Model  GDP Per Capita  Infant Mortality Rate  Life Expectancy\n",
       "1  Decision Tree          55.81%                 58.14%           41.86%\n",
       "2  Random Forest          69.77%                 53.49%             None"
      ]
     },
     "execution_count": 260,
     "metadata": {},
     "output_type": "execute_result"
    },
    {
     "data": {
      "image/png": "[encoded data removed]",
      "text/plain": [
       "<Figure size 500x500 with 1 Axes>"
      ]
     },
     "metadata": {},
     "output_type": "display_data"
    }
   ],
   "source": [
    "from sklearn import tree\n",
    "from matplotlib import pyplot as plt\n",
    "\n",
    "#Create Tree Classifier\n",
    "class_tree = tree.DecisionTreeClassifier()\n",
    "class_tree = class_tree.fit(x_train, y_train)\n",
    "\n",
    "plt.figure(figsize=(5, 5), dpi=100)\n",
    "tree.plot_tree(class_tree, label='all', feature_names=('Infant Mortality Rate', 'Population'), proportion=True)\n",
    "\n",
    "y_pred = class_tree.predict(x_test)\n",
    "\n",
    "from sklearn.metrics import accuracy_score\n",
    "accuracy = accuracy_score(y_test, y_pred)\n",
    "print(\"Accuracy of Infant Mortality Rate Tree Classifier:\", \"{:.2f}%\".format(accuracy*100))\n",
    "final_data[1][3] = \"{:.2f}%\".format(accuracy*100)\n",
    "pd.DataFrame(final_data)"
   ]
  },
  {
   "cell_type": "markdown",
   "metadata": {},
   "source": [
    "Amd Random Forest"
   ]
  },
  {
   "cell_type": "code",
   "execution_count": 261,
   "metadata": {},
   "outputs": [
    {
     "name": "stdout",
     "output_type": "stream",
     "text": [
      "The accuracy of the GDP Forest model is:  55.81%\n"
     ]
    },
    {
     "data": {
      "text/html": [
       "<div>\n",
       "<style scoped>\n",
       "    .dataframe tbody tr th:only-of-type {\n",
       "        vertical-align: middle;\n",
       "    }\n",
       "\n",
       "    .dataframe tbody tr th {\n",
       "        vertical-align: top;\n",
       "    }\n",
       "\n",
       "    .dataframe thead th {\n",
       "        text-align: right;\n",
       "    }\n",
       "</style>\n",
       "<table border=\"1\" class=\"dataframe\">\n",
       "  <thead>\n",
       "    <tr style=\"text-align: right;\">\n",
       "      <th></th>\n",
       "      <th>0</th>\n",
       "      <th>1</th>\n",
       "      <th>2</th>\n",
       "      <th>3</th>\n",
       "    </tr>\n",
       "  </thead>\n",
       "  <tbody>\n",
       "    <tr>\n",
       "      <th>0</th>\n",
       "      <td>ML Model</td>\n",
       "      <td>GDP Per Capita</td>\n",
       "      <td>Infant Mortality Rate</td>\n",
       "      <td>Life Expectancy</td>\n",
       "    </tr>\n",
       "    <tr>\n",
       "      <th>1</th>\n",
       "      <td>Decision Tree</td>\n",
       "      <td>55.81%</td>\n",
       "      <td>58.14%</td>\n",
       "      <td>41.86%</td>\n",
       "    </tr>\n",
       "    <tr>\n",
       "      <th>2</th>\n",
       "      <td>Random Forest</td>\n",
       "      <td>69.77%</td>\n",
       "      <td>53.49%</td>\n",
       "      <td>55.81%</td>\n",
       "    </tr>\n",
       "  </tbody>\n",
       "</table>\n",
       "</div>"
      ],
      "text/plain": [
       "               0               1                      2                3\n",
       "0       ML Model  GDP Per Capita  Infant Mortality Rate  Life Expectancy\n",
       "1  Decision Tree          55.81%                 58.14%           41.86%\n",
       "2  Random Forest          69.77%                 53.49%           55.81%"
      ]
     },
     "execution_count": 261,
     "metadata": {},
     "output_type": "execute_result"
    }
   ],
   "source": [
    "from sklearn.ensemble import RandomForestClassifier as rfc\n",
    "\n",
    "#Create Forest Classifier\n",
    "class_forest = rfc(n_estimators=50, max_leaf_nodes=15)\n",
    "class_forest = class_forest.fit(x_train, y_train)\n",
    "\n",
    "#Create Prediction Data\n",
    "y_pred_forest = class_forest.predict(x_test)\n",
    "\n",
    "score = accuracy_score(y_test, y_pred_forest)\n",
    "print('The accuracy of the GDP Forest model is: ', \"{:.2f}%\".format(100*score))\n",
    "final_data[2][3] = \"{:.2f}%\".format(score*100)\n",
    "pd.DataFrame(final_data)"
   ]
  },
  {
   "cell_type": "markdown",
   "metadata": {},
   "source": [
    "### From these final results we can see that GDP per Capita is most closely aligned with food scarcity/surplus, followed by Infant Mortality rate, followed by Life Expectancy"
   ]
  }
 ],
 "metadata": {
  "kernelspec": {
   "display_name": "Python 3",
   "language": "python",
   "name": "python3"
  },
  "language_info": {
   "codemirror_mode": {
    "name": "ipython",
    "version": 3
   },
   "file_extension": ".py",
   "mimetype": "text/x-python",
   "name": "python",
   "nbconvert_exporter": "python",
   "pygments_lexer": "ipython3",
   "version": "3.11.9"
  }
 },
 "nbformat": 4,
 "nbformat_minor": 2
}
