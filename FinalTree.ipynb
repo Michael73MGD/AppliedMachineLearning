{
 "cells": [
  {
   "cell_type": "markdown",
   "metadata": {},
   "source": [
    "## Hamza Mustafa\n",
    "### Final Project"
   ]
  },
  {
   "cell_type": "code",
   "execution_count": 8,
   "metadata": {},
   "outputs": [
    {
     "name": "stdout",
     "output_type": "stream",
     "text": [
      "Python 3.11.1\n"
     ]
    }
   ],
   "source": [
    "# Load Packages\n",
    "\n",
    "!python --version\n",
    "#%reset\n",
    "import os\n",
    "import math\n",
    "import random\n",
    "import numpy as np\n",
    "import pandas as pd\n",
    "import sklearn as sk"
   ]
  },
  {
   "cell_type": "code",
   "execution_count": 9,
   "metadata": {},
   "outputs": [],
   "source": [
    "#Directory Checking\n",
    "os.listdir()\n",
    "dir = r'D:\\Docs\\Code\\Machine Learning\\FinalProject\\Manually_Checked_Global_Food_Dataset.csv'\n",
    "\n",
    "#Save csv file as a dataframe\n",
    "df = pd.read_csv(dir)\n",
    "\n",
    "#Print dataframe\n",
    "df.style\n",
    "\n",
    "#Select desired columns\n",
    "clean_df = df[['Country', 'Tons of food scarcity', 'Tons of surplus food']].copy()\n",
    "#clean_df.style\n",
    "\n",
    "clean_df['sub'] = clean_df['Tons of surplus food']-clean_df['Tons of food scarcity']\n",
    "#clean_df.style\n",
    "\n",
    "#clean_df.loc[clean_df['pclass'] == '1st', 'pclass'] = 1\n",
    "#clean_df.loc[clean_df['pclass'] == '2nd', 'pclass'] = 2\n",
    "#clean_df.loc[clean_df['pclass'] == '3rd', 'pclass'] = 3\n",
    "\n",
    "#clean_df.loc[clean_df['sex'] == 'male', 'sex'] = 0\n",
    "#clean_df.loc[clean_df['sex'] == 'female', 'sex'] = 1\n",
    "\n",
    "#avg_age = clean_df['age'].mean(axis = 0)\n",
    "#print(age_avg)\n",
    "\n",
    "#Set nan values to average age\n",
    "#clean_df['age'] = clean_df['age'].fillna(avg_age)\n",
    "\n",
    "#clean_df.style"
   ]
  },
  {
   "cell_type": "code",
   "execution_count": 10,
   "metadata": {},
   "outputs": [],
   "source": [
    "\n",
    "negative_values = clean_df[clean_df['sub'] < 0]['sub']\n",
    "\n",
    "# Find maximum and minimum values among negative numbers\n",
    "max_negative = negative_values.max()\n",
    "min_negative = negative_values.min()\n",
    "\n",
    "positive_values = clean_df[clean_df['sub'] >= 0]['sub']\n",
    "max_positive = positive_values.max()\n",
    "min_positive = positive_values.min()\n",
    "\n",
    "a = 0.01\n",
    "b = 10\n",
    "\n",
    "c = -10\n",
    "d = -0.01\n",
    "\n",
    "clean_df['normalized_sub'] = clean_df['sub'].apply(lambda x: ((x - min_positive) / (max_positive - min_positive)) * (b - a) + a if x >= 0 else (x - min_negative) / (max_negative - min_negative) * (d - c) + c)"
   ]
  },
  {
   "cell_type": "code",
   "execution_count": 11,
   "metadata": {},
   "outputs": [],
   "source": [
    "#clean_df.style"
   ]
  },
  {
   "cell_type": "code",
   "execution_count": 12,
   "metadata": {},
   "outputs": [
    {
     "name": "stdout",
     "output_type": "stream",
     "text": [
      "-10\n"
     ]
    }
   ],
   "source": [
    "t1 = -1\n",
    "\n",
    "print(math.floor(t1*10))"
   ]
  },
  {
   "cell_type": "code",
   "execution_count": 13,
   "metadata": {},
   "outputs": [],
   "source": [
    "\n",
    "#Select desired columns\n",
    "norm_df = clean_df[['Country', 'normalized_sub']].copy()\n",
    "#norm_df.style\n",
    "\n",
    "norm_df['classification'] = norm_df['normalized_sub'].apply(lambda x: math.ceil(x) if x >= 0 else math.floor(x))"
   ]
  },
  {
   "cell_type": "code",
   "execution_count": 15,
   "metadata": {},
   "outputs": [
    {
     "name": "stdout",
     "output_type": "stream",
     "text": [
      "0     -3\n",
      "1     -1\n",
      "2     -1\n",
      "3      1\n",
      "4     -3\n",
      "      ..\n",
      "207    1\n",
      "208   -1\n",
      "209    1\n",
      "210   -2\n",
      "211   -2\n",
      "Name: classification, Length: 212, dtype: int64\n"
     ]
    }
   ],
   "source": [
    "#Outputs\n",
    "y = norm_df['classification'].copy()\n",
    "print(y)"
   ]
  },
  {
   "cell_type": "code",
   "execution_count": 19,
   "metadata": {},
   "outputs": [],
   "source": [
    "#Select desired columns\n",
    "x_df = df[['GDP per Capita', 'Population', 'Infant Mortality Rate', 'Life Expectancy']].copy()\n",
    "\n",
    "#Find average Infant Mortality Rate\n",
    "avg_mr = x_df['Infant Mortality Rate'].mean(axis = 0)\n",
    "\n",
    "#Set nan values to average rate\n",
    "x_df['Infant Mortality Rate'] = x_df['Infant Mortality Rate'].fillna(avg_mr)\n",
    "\n",
    "#Find average Life Expectancy\n",
    "avg_le = x_df['Life Expectancy'].mean(axis = 0)\n",
    "\n",
    "#Set nan values to average Life Life Expectancy\n",
    "x_df['Life Expectancy'] = x_df['Life Expectancy'].fillna(avg_le)\n",
    "\n",
    "x = x_df"
   ]
  },
  {
   "cell_type": "code",
   "execution_count": 21,
   "metadata": {},
   "outputs": [],
   "source": [
    "#x_df.style\n",
    "\n",
    "#Create training data using sklearn\n",
    "from sklearn.model_selection import train_test_split\n",
    "x_train, x_test, y_train, y_test = train_test_split(x, y, test_size=0.2, random_state=0)"
   ]
  }
 ],
 "metadata": {
  "kernelspec": {
   "display_name": "Python 3",
   "language": "python",
   "name": "python3"
  },
  "language_info": {
   "codemirror_mode": {
    "name": "ipython",
    "version": 3
   },
   "file_extension": ".py",
   "mimetype": "text/x-python",
   "name": "python",
   "nbconvert_exporter": "python",
   "pygments_lexer": "ipython3",
   "version": "3.11.1"
  }
 },
 "nbformat": 4,
 "nbformat_minor": 2
}
